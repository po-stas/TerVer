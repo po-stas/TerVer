{
 "cells": [
  {
   "cell_type": "markdown",
   "metadata": {},
   "source": [
    "Урок 7. Многомерный статистический анализ. Линейная регрессия"
   ]
  },
  {
   "cell_type": "markdown",
   "metadata": {},
   "source": [
    "1. Даны значения величины заработной платы заемщиков банка (zp) и значения их поведенческого кредитного скоринга (ks): zp = [35, 45, 190, 200, 40, 70, 54, 150, 120, 110], ks = [401, 574, 874, 919, 459, 739, 653, 902, 746, 832]. Используя математические операции, посчитать коэффициенты линейной регрессии, приняв за X заработную плату (то есть, zp - признак), а за y - значения скорингового балла (то есть, ks - целевая переменная). Произвести расчет как с использованием intercept, так и без."
   ]
  },
  {
   "cell_type": "code",
   "execution_count": 1,
   "metadata": {},
   "outputs": [],
   "source": [
    "import numpy as np\n",
    "import pandas as pd\n",
    "import matplotlib.pyplot as plt"
   ]
  },
  {
   "cell_type": "code",
   "execution_count": 2,
   "metadata": {},
   "outputs": [],
   "source": [
    "zp = np.array([35, 45, 190, 200, 40, 70, 54, 150, 120, 110])\n",
    "ks = np.array([401, 574, 874, 919, 459, 739, 653, 902, 746, 832])"
   ]
  },
  {
   "cell_type": "code",
   "execution_count": 3,
   "metadata": {},
   "outputs": [
    {
     "data": {
      "text/plain": [
       "<matplotlib.collections.PathCollection at 0x114e17e48>"
      ]
     },
     "execution_count": 3,
     "metadata": {},
     "output_type": "execute_result"
    },
    {
     "data": {
      "image/png": "[encoded data removed]",
      "text/plain": [
       "<Figure size 432x288 with 1 Axes>"
      ]
     },
     "metadata": {
      "needs_background": "light"
     },
     "output_type": "display_data"
    }
   ],
   "source": [
    "plt.scatter(zp, ks)"
   ]
  },
  {
   "cell_type": "markdown",
   "metadata": {},
   "source": [
    "Не очень то оно линейно зависит, но все же. Считаем коэффициенты b для линейной регрессии"
   ]
  },
  {
   "cell_type": "code",
   "execution_count": 4,
   "metadata": {},
   "outputs": [
    {
     "data": {
      "text/plain": [
       "2.620538882402765"
      ]
     },
     "execution_count": 4,
     "metadata": {},
     "output_type": "execute_result"
    }
   ],
   "source": [
    "b = (np.mean(zp * ks) - np.mean(zp) * np.mean(ks))/(np.mean(zp**2) - np.mean(zp)**2)\n",
    "b"
   ]
  },
  {
   "cell_type": "markdown",
   "metadata": {},
   "source": [
    "Это без интерсепта. Посмотрим, что получится по значениям:"
   ]
  },
  {
   "cell_type": "code",
   "execution_count": 5,
   "metadata": {},
   "outputs": [
    {
     "data": {
      "text/plain": [
       "array([ 91.71886088, 117.92424971, 497.90238766, 524.10777648,\n",
       "       104.8215553 , 183.43772177, 141.50909965, 393.08083236,\n",
       "       314.46466589, 288.25927706])"
      ]
     },
     "execution_count": 5,
     "metadata": {},
     "output_type": "execute_result"
    }
   ],
   "source": [
    "ks_hat = b * zp\n",
    "ks_hat"
   ]
  },
  {
   "cell_type": "code",
   "execution_count": 18,
   "metadata": {},
   "outputs": [
    {
     "data": {
      "text/plain": [
       "<matplotlib.collections.PathCollection at 0x1153b6978>"
      ]
     },
     "execution_count": 18,
     "metadata": {},
     "output_type": "execute_result"
    },
    {
     "data": {
      "image/png": "[encoded data removed]",
      "text/plain": [
       "<Figure size 432x288 with 1 Axes>"
      ]
     },
     "metadata": {
      "needs_background": "light"
     },
     "output_type": "display_data"
    }
   ],
   "source": [
    "plt.scatter(zp, ks)\n",
    "plt.plot(zp, b * zp, color='red', alpha=0.5)\n",
    "plt.scatter(zp, ks_hat, color='red')"
   ]
  },
  {
   "cell_type": "markdown",
   "metadata": {},
   "source": [
    "Довольно сильно отличается. Попробуем вторым способом:"
   ]
  },
  {
   "cell_type": "code",
   "execution_count": 12,
   "metadata": {},
   "outputs": [
    {
     "data": {
      "text/plain": [
       "2.6205388824027653"
      ]
     },
     "execution_count": 12,
     "metadata": {},
     "output_type": "execute_result"
    }
   ],
   "source": [
    "n = zp.size\n",
    "b = (n * (np.sum(zp * ks)) - (np.sum(zp) * np.sum(ks)))/(n * (np.sum(zp**2)) - ((np.sum(zp)**2)))\n",
    "b"
   ]
  },
  {
   "cell_type": "markdown",
   "metadata": {},
   "source": [
    "Практически то-же самое.."
   ]
  },
  {
   "cell_type": "markdown",
   "metadata": {},
   "source": [
    "Теперь с интерсептом"
   ]
  },
  {
   "cell_type": "code",
   "execution_count": 14,
   "metadata": {},
   "outputs": [
    {
     "data": {
      "text/plain": [
       "444.17735732435955"
      ]
     },
     "execution_count": 14,
     "metadata": {},
     "output_type": "execute_result"
    }
   ],
   "source": [
    "a = np.mean(ks)- b * np.mean(zp)\n",
    "a"
   ]
  },
  {
   "cell_type": "code",
   "execution_count": 37,
   "metadata": {},
   "outputs": [
    {
     "data": {
      "text/plain": [
       "array([535.89621821, 562.10160703, 942.07974498, 968.2851338 ,\n",
       "       548.99891262, 627.61507909, 585.68645697, 837.25818968,\n",
       "       758.64202321, 732.43663439])"
      ]
     },
     "execution_count": 37,
     "metadata": {},
     "output_type": "execute_result"
    }
   ],
   "source": [
    "ks_hat2 = a + b * zp\n",
    "ks_hat2"
   ]
  },
  {
   "cell_type": "code",
   "execution_count": 38,
   "metadata": {},
   "outputs": [
    {
     "data": {
      "text/plain": [
       "<matplotlib.collections.PathCollection at 0x1155d3908>"
      ]
     },
     "execution_count": 38,
     "metadata": {},
     "output_type": "execute_result"
    },
    {
     "data": {
      "image/png": "[encoded data removed]",
      "text/plain": [
       "<Figure size 432x288 with 1 Axes>"
      ]
     },
     "metadata": {
      "needs_background": "light"
     },
     "output_type": "display_data"
    }
   ],
   "source": [
    "plt.scatter(zp, ks)\n",
    "plt.plot(zp, ks_hat2, color='red', alpha=0.5)\n",
    "plt.scatter(zp, ks_hat2, color='red', alpha=0.5)"
   ]
  },
  {
   "cell_type": "markdown",
   "metadata": {},
   "source": [
    "Так слегка лучше )"
   ]
  },
  {
   "cell_type": "code",
   "execution_count": 44,
   "metadata": {},
   "outputs": [
    {
     "data": {
      "text/plain": [
       "6470.414201176658"
      ]
     },
     "execution_count": 44,
     "metadata": {},
     "output_type": "execute_result"
    }
   ],
   "source": [
    "mse = ((ks - ks_hat2)**2).sum()/n\n",
    "mse"
   ]
  },
  {
   "cell_type": "markdown",
   "metadata": {},
   "source": [
    "Это нормально вообще? Такое значение mse.. )"
   ]
  },
  {
   "cell_type": "code",
   "execution_count": null,
   "metadata": {},
   "outputs": [],
   "source": []
  },
  {
   "cell_type": "markdown",
   "metadata": {},
   "source": [
    "2. Посчитать коэффициент линейной регрессии при заработной плате (zp), используя градиентный спуск (без intercept)."
   ]
  },
  {
   "cell_type": "code",
   "execution_count": 55,
   "metadata": {},
   "outputs": [],
   "source": [
    "# Определяем функцию расчета ошибки mse\n",
    "def mse(B1, B0=0, y=ks, X=zp, n=10):\n",
    "    return np.sum(((B0 + B1 * X) - y)**2)/n"
   ]
  },
  {
   "cell_type": "code",
   "execution_count": 56,
   "metadata": {},
   "outputs": [
    {
     "data": {
      "text/plain": [
       "6470.414201176658"
      ]
     },
     "execution_count": 56,
     "metadata": {},
     "output_type": "execute_result"
    }
   ],
   "source": [
    "mse(b, a)"
   ]
  },
  {
   "cell_type": "markdown",
   "metadata": {},
   "source": [
    "Работает )"
   ]
  },
  {
   "cell_type": "code",
   "execution_count": 76,
   "metadata": {},
   "outputs": [],
   "source": [
    "alpha = 1e-7\n",
    "B1 = 0.0"
   ]
  },
  {
   "cell_type": "code",
   "execution_count": 77,
   "metadata": {},
   "outputs": [
    {
     "name": "stdout",
     "output_type": "stream",
     "text": [
      "i: 0, B1: 0.01622834, mse: 531796.9380003073\n",
      "i: 1000, B1: 5.517744178773556, mse: 58424.10096815019\n",
      "i: 2000, B1: 5.866250392201703, mse: 56524.51195372794\n",
      "i: 3000, B1: 5.88832732233467, mse: 56516.889128459115\n",
      "i: 4000, B1: 5.889725836407925, mse: 56516.858538965986\n",
      "i: 5000, B1: 5.889814428508431, mse: 56516.85841621399\n",
      "i: 6000, B1: 5.889820040579424, mse: 56516.85841572139\n",
      "i: 7000, B1: 5.889820396089012, mse: 56516.85841571943\n",
      "i: 8000, B1: 5.889820418609585, mse: 56516.8584157194\n",
      "i: 9000, B1: 5.889820420036202, mse: 56516.85841571939\n"
     ]
    }
   ],
   "source": [
    "# Начинаем подбирать:\n",
    "for i in range(10000):\n",
    "    B1 -= alpha * (2/n) * np.sum((B1*zp - ks) * zp)\n",
    "    if i%1000 == 0:\n",
    "        print('i: {i}, B1: {B1}, mse: {mse_}'.format(i=i, B1=B1, mse_=mse(B1)))\n"
   ]
  },
  {
   "cell_type": "code",
   "execution_count": 78,
   "metadata": {},
   "outputs": [
    {
     "data": {
      "text/plain": [
       "56516.85841571939"
      ]
     },
     "execution_count": 78,
     "metadata": {},
     "output_type": "execute_result"
    }
   ],
   "source": [
    "mse(5.889820420036202)"
   ]
  },
  {
   "cell_type": "markdown",
   "metadata": {},
   "source": [
    "Получился B1 = 5.889820420036202"
   ]
  },
  {
   "cell_type": "code",
   "execution_count": 79,
   "metadata": {},
   "outputs": [
    {
     "data": {
      "text/plain": [
       "<matplotlib.collections.PathCollection at 0x1157a3390>"
      ]
     },
     "execution_count": 79,
     "metadata": {},
     "output_type": "execute_result"
    },
    {
     "data": {
      "image/png": "[encoded data removed]",
      "text/plain": [
       "<Figure size 432x288 with 1 Axes>"
      ]
     },
     "metadata": {
      "needs_background": "light"
     },
     "output_type": "display_data"
    }
   ],
   "source": [
    "plt.scatter(zp, ks)\n",
    "plt.plot(zp, B1 * zp, color='red', alpha=0.5)\n",
    "plt.scatter(zp, B1 * zp, color='red')"
   ]
  },
  {
   "cell_type": "markdown",
   "metadata": {},
   "source": [
    "Попробуем с интерсептом: \n",
    "Производных нам нужно будет теперь две, и функция mse будет учитывать интерсепт: $(1/n)\\cdot\\sum{((\\beta_0 + \\beta_1 * X) - y)^2}$\n",
    "Производная по $\\beta_1$ теперь будет: $(2/n)\\cdot(\\beta_1 x - y + \\beta_0)\\cdot x$\n",
    "А производная mse по $\\beta_0$ будет: $(2/n)\\cdot(\\beta_1 x - y + \\beta_0)$\n",
    "Эти две производные нам предстоит испрользовать одновременно."
   ]
  },
  {
   "cell_type": "code",
   "execution_count": 94,
   "metadata": {},
   "outputs": [],
   "source": [
    "alpha_1 = 2e-5\n",
    "B0_1 = 350\n",
    "B1_1 = 0.0"
   ]
  },
  {
   "cell_type": "code",
   "execution_count": 95,
   "metadata": {},
   "outputs": [
    {
     "name": "stdout",
     "output_type": "stream",
     "text": [
      "i: 0, B1: 1.8260680000000002, B0: 350.014396, mse: 39204.06018788081\n",
      "i: 50000, B1: 3.0378056409965226, B0: 387.4869097282859, mse: 7285.644227216797\n",
      "i: 100000, B1: 2.8717819369974142, B0: 410.0431232234299, mse: 6765.970840959711\n",
      "i: 150000, B1: 2.7718163833826974, B0: 423.62458367263133, mse: 6577.566445978269\n",
      "i: 200000, B1: 2.7116255090147883, B0: 431.80220036228934, mse: 6509.261589529853\n",
      "i: 250000, B1: 2.675383611419399, B0: 436.72607544722985, mse: 6484.498083270386\n",
      "i: 300000, B1: 2.6535617795369286, B0: 439.69082016102556, mse: 6475.520226143548\n",
      "i: 350000, B1: 2.640422502117655, B0: 441.4759408365808, mse: 6472.265359173367\n",
      "i: 400000, B1: 2.6325111309720053, B0: 442.5507908266855, mse: 6471.0853271407905\n",
      "i: 450000, B1: 2.6277475666292407, B0: 443.19797536555006, mse: 6470.657513773712\n",
      "i: 500000, B1: 2.6248793476024397, B0: 443.5876556290365, mse: 6470.502412664589\n",
      "i: 550000, B1: 2.6231523466020024, B0: 443.82228840937967, mse: 6470.446181709923\n",
      "i: 600000, B1: 2.622112491407014, B0: 443.9635645959555, mse: 6470.425795522608\n",
      "i: 650000, B1: 2.62148637779945, B0: 444.0486292696392, mse: 6470.418404635585\n",
      "i: 700000, B1: 2.6211093846840416, B0: 444.0998480835345, mse: 6470.415725114881\n",
      "i: 750000, B1: 2.620882391040487, B0: 444.13068775860944, mse: 6470.414753671101\n",
      "i: 800000, B1: 2.62074571450156, B0: 444.1492568250593, mse: 6470.414401480126\n",
      "i: 850000, B1: 2.620663419349979, B0: 444.1604375598818, mse: 6470.414273795454\n",
      "i: 900000, B1: 2.62061386811007, B0: 444.1671696608976, mse: 6470.414227504156\n",
      "i: 950000, B1: 2.620584032508225, B0: 444.1712231676486, mse: 6470.414210721534\n"
     ]
    }
   ],
   "source": [
    "# Начинаем подбирать:\n",
    "for i in range(1000000):\n",
    "    B1_tmp = B1_1 - alpha_1 * (2/n) * np.sum((B1_1*zp - ks + B0_1) * zp)\n",
    "    B0_tmp = B0_1 - alpha_1 * (2/n) * np.sum(B1_1*zp - ks + B0_1)\n",
    "    B1_1 = B1_tmp\n",
    "    B0_1 = B0_tmp\n",
    "    if i%50000 == 0:\n",
    "        print('i: {i}, B1: {B1_1}, B0: {B0_1}, mse: {mse_}'.format(i=i, B1_1=B1_1, B0_1=B0_1, mse_=mse(B1 = B1_1, B0 = B0_1)))"
   ]
  },
  {
   "cell_type": "markdown",
   "metadata": {},
   "source": [
    "Получилось:\n",
    "$\\beta_0 = 444.1712231676486$\n",
    "$\\beta_1 = 2.620584032508225$"
   ]
  },
  {
   "cell_type": "code",
   "execution_count": 96,
   "metadata": {},
   "outputs": [
    {
     "data": {
      "text/plain": [
       "6470.414210721534"
      ]
     },
     "execution_count": 96,
     "metadata": {},
     "output_type": "execute_result"
    }
   ],
   "source": [
    "#При этом mse:\n",
    "mse(B0=444.1712231676486, B1=2.620584032508225)"
   ]
  },
  {
   "cell_type": "code",
   "execution_count": 97,
   "metadata": {},
   "outputs": [
    {
     "data": {
      "text/plain": [
       "<matplotlib.collections.PathCollection at 0x1158850b8>"
      ]
     },
     "execution_count": 97,
     "metadata": {},
     "output_type": "execute_result"
    },
    {
     "data": {
      "image/png": "[encoded data removed]",
      "text/plain": [
       "<Figure size 432x288 with 1 Axes>"
      ]
     },
     "metadata": {
      "needs_background": "light"
     },
     "output_type": "display_data"
    }
   ],
   "source": [
    "plt.scatter(zp, ks)\n",
    "plt.plot(zp, B1_1 * zp + B0_1, color='red', alpha=0.5)\n",
    "plt.scatter(zp, B1_1 * zp + B0_1, color='red')"
   ]
  },
  {
   "cell_type": "markdown",
   "metadata": {},
   "source": [
    "Некоторое улучшение наблюдается )"
   ]
  },
  {
   "cell_type": "code",
   "execution_count": null,
   "metadata": {},
   "outputs": [],
   "source": []
  },
  {
   "cell_type": "markdown",
   "metadata": {},
   "source": [
    "3. В каких случаях для вычисления доверительных интервалов и проверки статистических гипотез используется таблица значений функции Лапласа, а в каких - таблица критических точек распределения Стьюдента? *4. Произвести вычисления как в пункте 2, но с вычислением intercept. Учесть, что изменение коэффициентов должно производиться на каждом шаге одновременно (то есть изменение одного коэффициента не должно влиять на изменение другого во время одной итерации)."
   ]
  },
  {
   "cell_type": "code",
   "execution_count": null,
   "metadata": {},
   "outputs": [],
   "source": []
  }
 ],
 "metadata": {
  "kernelspec": {
   "display_name": "Python 3",
   "language": "python",
   "name": "python3"
  },
  "language_info": {
   "codemirror_mode": {
    "name": "ipython",
    "version": 3
   },
   "file_extension": ".py",
   "mimetype": "text/x-python",
   "name": "python",
   "nbconvert_exporter": "python",
   "pygments_lexer": "ipython3",
   "version": "3.7.3"
  }
 },
 "nbformat": 4,
 "nbformat_minor": 2
}
