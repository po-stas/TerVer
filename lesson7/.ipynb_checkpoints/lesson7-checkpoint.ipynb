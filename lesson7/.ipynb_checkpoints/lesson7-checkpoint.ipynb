{
 "cells": [
  {
   "cell_type": "markdown",
   "metadata": {},
   "source": [
    "Урок 7. Многомерный статистический анализ. Линейная регрессия"
   ]
  },
  {
   "cell_type": "markdown",
   "metadata": {},
   "source": [
    "1. Даны значения величины заработной платы заемщиков банка (zp) и значения их поведенческого кредитного скоринга (ks): zp = [35, 45, 190, 200, 40, 70, 54, 150, 120, 110], ks = [401, 574, 874, 919, 459, 739, 653, 902, 746, 832]. Используя математические операции, посчитать коэффициенты линейной регрессии, приняв за X заработную плату (то есть, zp - признак), а за y - значения скорингового балла (то есть, ks - целевая переменная). Произвести расчет как с использованием intercept, так и без."
   ]
  },
  {
   "cell_type": "code",
   "execution_count": 1,
   "metadata": {},
   "outputs": [],
   "source": [
    "import numpy as np\n",
    "import pandas as pd\n",
    "import matplotlib.pyplot as plt"
   ]
  },
  {
   "cell_type": "code",
   "execution_count": 2,
   "metadata": {},
   "outputs": [],
   "source": [
    "zp = np.array([35, 45, 190, 200, 40, 70, 54, 150, 120, 110])\n",
    "ks = np.array([401, 574, 874, 919, 459, 739, 653, 902, 746, 832])"
   ]
  },
  {
   "cell_type": "code",
   "execution_count": 3,
   "metadata": {},
   "outputs": [
    {
     "data": {
      "text/plain": [
       "<matplotlib.collections.PathCollection at 0x114e17e48>"
      ]
     },
     "execution_count": 3,
     "metadata": {},
     "output_type": "execute_result"
    },
    {
     "data": {
      "image/png": "[encoded data removed]",
      "text/plain": [
       "<Figure size 432x288 with 1 Axes>"
      ]
     },
     "metadata": {
      "needs_background": "light"
     },
     "output_type": "display_data"
    }
   ],
   "source": [
    "plt.scatter(zp, ks)"
   ]
  },
  {
   "cell_type": "markdown",
   "metadata": {},
   "source": [
    "Не очень то оно линейно зависит, но все же. Считаем коэффициенты b для линейной регрессии"
   ]
  },
  {
   "cell_type": "code",
   "execution_count": 4,
   "metadata": {},
   "outputs": [
    {
     "data": {
      "text/plain": [
       "2.620538882402765"
      ]
     },
     "execution_count": 4,
     "metadata": {},
     "output_type": "execute_result"
    }
   ],
   "source": [
    "b = (np.mean(zp * ks) - np.mean(zp) * np.mean(ks))/(np.mean(zp**2) - np.mean(zp)**2)\n",
    "b"
   ]
  },
  {
   "cell_type": "markdown",
   "metadata": {},
   "source": [
    "Это без интерсепта. Посмотрим, что получится по значениям:"
   ]
  },
  {
   "cell_type": "code",
   "execution_count": 5,
   "metadata": {},
   "outputs": [
    {
     "data": {
      "text/plain": [
       "array([ 91.71886088, 117.92424971, 497.90238766, 524.10777648,\n",
       "       104.8215553 , 183.43772177, 141.50909965, 393.08083236,\n",
       "       314.46466589, 288.25927706])"
      ]
     },
     "execution_count": 5,
     "metadata": {},
     "output_type": "execute_result"
    }
   ],
   "source": [
    "ks_hat = b * zp\n",
    "ks_hat"
   ]
  },
  {
   "cell_type": "code",
   "execution_count": 18,
   "metadata": {},
   "outputs": [
    {
     "data": {
      "text/plain": [
       "<matplotlib.collections.PathCollection at 0x1153b6978>"
      ]
     },
     "execution_count": 18,
     "metadata": {},
     "output_type": "execute_result"
    },
    {
     "data": {
      "image/png": "[encoded data removed]",
      "text/plain": [
       "<Figure size 432x288 with 1 Axes>"
      ]
     },
     "metadata": {
      "needs_background": "light"
     },
     "output_type": "display_data"
    }
   ],
   "source": [
    "plt.scatter(zp, ks)\n",
    "plt.plot(zp, b * zp, color='red', alpha=0.5)\n",
    "plt.scatter(zp, ks_hat, color='red')"
   ]
  },
  {
   "cell_type": "markdown",
   "metadata": {},
   "source": [
    "Довольно сильно отличается. Попробуем вторым способом:"
   ]
  },
  {
   "cell_type": "code",
   "execution_count": 12,
   "metadata": {},
   "outputs": [
    {
     "data": {
      "text/plain": [
       "2.6205388824027653"
      ]
     },
     "execution_count": 12,
     "metadata": {},
     "output_type": "execute_result"
    }
   ],
   "source": [
    "n = zp.size\n",
    "b = (n * (np.sum(zp * ks)) - (np.sum(zp) * np.sum(ks)))/(n * (np.sum(zp**2)) - ((np.sum(zp)**2)))\n",
    "b"
   ]
  },
  {
   "cell_type": "markdown",
   "metadata": {},
   "source": [
    "Практически то-же самое.."
   ]
  },
  {
   "cell_type": "markdown",
   "metadata": {},
   "source": [
    "Теперь с интерсептом"
   ]
  },
  {
   "cell_type": "code",
   "execution_count": 14,
   "metadata": {},
   "outputs": [
    {
     "data": {
      "text/plain": [
       "444.17735732435955"
      ]
     },
     "execution_count": 14,
     "metadata": {},
     "output_type": "execute_result"
    }
   ],
   "source": [
    "a = np.mean(ks)- b * np.mean(zp)\n",
    "a"
   ]
  },
  {
   "cell_type": "code",
   "execution_count": 37,
   "metadata": {},
   "outputs": [
    {
     "data": {
      "text/plain": [
       "array([535.89621821, 562.10160703, 942.07974498, 968.2851338 ,\n",
       "       548.99891262, 627.61507909, 585.68645697, 837.25818968,\n",
       "       758.64202321, 732.43663439])"
      ]
     },
     "execution_count": 37,
     "metadata": {},
     "output_type": "execute_result"
    }
   ],
   "source": [
    "ks_hat2 = a + b * zp\n",
    "ks_hat2"
   ]
  },
  {
   "cell_type": "code",
   "execution_count": 38,
   "metadata": {},
   "outputs": [
    {
     "data": {
      "text/plain": [
       "<matplotlib.collections.PathCollection at 0x1155d3908>"
      ]
     },
     "execution_count": 38,
     "metadata": {},
     "output_type": "execute_result"
    },
    {
     "data": {
      "image/png": "[encoded data removed]",
      "text/plain": [
       "<Figure size 432x288 with 1 Axes>"
      ]
     },
     "metadata": {
      "needs_background": "light"
     },
     "output_type": "display_data"
    }
   ],
   "source": [
    "plt.scatter(zp, ks)\n",
    "plt.plot(zp, ks_hat2, color='red', alpha=0.5)\n",
    "plt.scatter(zp, ks_hat2, color='red', alpha=0.5)"
   ]
  },
  {
   "cell_type": "markdown",
   "metadata": {},
   "source": [
    "Так слегка лучше )"
   ]
  },
  {
   "cell_type": "code",
   "execution_count": 44,
   "metadata": {},
   "outputs": [
    {
     "data": {
      "text/plain": [
       "6470.414201176658"
      ]
     },
     "execution_count": 44,
     "metadata": {},
     "output_type": "execute_result"
    }
   ],
   "source": [
    "mse = ((ks - ks_hat2)**2).sum()/n\n",
    "mse"
   ]
  },
  {
   "cell_type": "markdown",
   "metadata": {},
   "source": [
    "Это нормально вообще? Такое значение mse.. )"
   ]
  },
  {
   "cell_type": "code",
   "execution_count": null,
   "metadata": {},
   "outputs": [],
   "source": []
  },
  {
   "cell_type": "markdown",
   "metadata": {},
   "source": [
    "2. Посчитать коэффициент линейной регрессии при заработной плате (zp), используя градиентный спуск (без intercept)."
   ]
  },
  {
   "cell_type": "code",
   "execution_count": 55,
   "metadata": {},
   "outputs": [],
   "source": [
    "# Определяем функцию расчета ошибки mse\n",
    "def mse(B1, B0=0, y=ks, X=zp, n=10):\n",
    "    return np.sum(((B0 + B1 * X) - y)**2)/n"
   ]
  },
  {
   "cell_type": "code",
   "execution_count": 56,
   "metadata": {},
   "outputs": [
    {
     "data": {
      "text/plain": [
       "6470.414201176658"
      ]
     },
     "execution_count": 56,
     "metadata": {},
     "output_type": "execute_result"
    }
   ],
   "source": [
    "mse(b, a)"
   ]
  },
  {
   "cell_type": "markdown",
   "metadata": {},
   "source": [
    "Работает )"
   ]
  },
  {
   "cell_type": "code",
   "execution_count": 70,
   "metadata": {},
   "outputs": [],
   "source": [
    "alpha = 1e-7\n",
    "B1 = 0.0"
   ]
  },
  {
   "cell_type": "code",
   "execution_count": 71,
   "metadata": {},
   "outputs": [
    {
     "name": "stdout",
     "output_type": "stream",
     "text": [
      "i: 0, B1: 0.01622834, mse: 531796.9380003073\n",
      "i: 100, B1: 1.4324718544314756, mse: 330229.74429878284\n",
      "i: 200, B1: 2.507230011213821, mse: 214147.58420569272\n",
      "i: 300, B1: 3.3228419337396424, mse: 147296.090942204\n",
      "i: 400, B1: 3.941793094024705, mse: 108796.44424391426\n",
      "i: 500, B1: 4.411502435241568, mse: 86624.57158205632\n",
      "i: 600, B1: 4.76795522082932, mse: 73855.8326586551\n",
      "i: 700, B1: 5.038459929175337, mse: 66502.3404128486\n",
      "i: 800, B1: 5.243740404447008, mse: 62267.47833809542\n",
      "i: 900, B1: 5.399523546949131, mse: 59828.62939494055\n",
      "i: 1000, B1: 5.517744178773556, mse: 58424.10096815019\n",
      "i: 1100, B1: 5.607459391629637, mse: 57615.2357421184\n",
      "i: 1200, B1: 5.675542426659986, mse: 57149.411810467114\n",
      "i: 1300, B1: 5.727209245601596, mse: 56881.14470203475\n",
      "i: 1400, B1: 5.766418134840383, mse: 56726.65018902946\n",
      "i: 1500, B1: 5.796172956732489, mse: 56637.67709542804\n",
      "i: 1600, B1: 5.818753280812552, mse: 56586.437661541255\n",
      "i: 1700, B1: 5.835889025647774, mse: 56556.928969882116\n",
      "i: 1800, B1: 5.8488929909591985, mse: 56539.93497097582\n",
      "i: 1900, B1: 5.858761433530378, mse: 56530.148159613134\n",
      "i: 2000, B1: 5.866250392201703, mse: 56524.51195372794\n",
      "i: 2100, B1: 5.871933609343245, mse: 56521.266073573206\n",
      "i: 2200, B1: 5.876246486272527, mse: 56519.39677742015\n",
      "i: 2300, B1: 5.879519440119594, mse: 56518.320253352365\n",
      "i: 2400, B1: 5.882003217667781, mse: 56517.70028520729\n",
      "i: 2500, B1: 5.883888105508282, mse: 56517.34324674214\n",
      "i: 2600, B1: 5.8853185082325, mse: 56517.137628975135\n",
      "i: 2700, B1: 5.886404011523199, mse: 56517.01921409762\n",
      "i: 2800, B1: 5.887227777707472, mse: 56516.95101919687\n",
      "i: 2900, B1: 5.887852916969762, mse: 56516.91174588441\n",
      "i: 3000, B1: 5.88832732233467, mse: 56516.889128459115\n",
      "i: 3100, B1: 5.8886873388363306, mse: 56516.87610312726\n",
      "i: 3200, B1: 5.888960547975714, mse: 56516.868601863665\n",
      "i: 3300, B1: 5.889167880788231, mse: 56516.86428190034\n",
      "i: 3400, B1: 5.8893252214073755, mse: 56516.861794041746\n",
      "i: 3500, B1: 5.889444623976282, mse: 56516.86036128878\n",
      "i: 3600, B1: 5.889535236136955, mse: 56516.85953616906\n",
      "i: 3700, B1: 5.889603999847281, mse: 56516.85906098421\n",
      "i: 3800, B1: 5.889656183216744, mse: 56516.85878732618\n",
      "i: 3900, B1: 5.889695784105579, mse: 56516.85862972702\n",
      "i: 4000, B1: 5.889725836407925, mse: 56516.858538965986\n",
      "i: 4100, B1: 5.889748642483821, mse: 56516.85848669688\n",
      "i: 4200, B1: 5.889765949547081, mse: 56516.85845659518\n",
      "i: 4300, B1: 5.88977908352243, mse: 56516.8584392597\n",
      "i: 4400, B1: 5.889789050626954, mse: 56516.85842927623\n",
      "i: 4500, B1: 5.889796614458156, mse: 56516.85842352675\n",
      "i: 4600, B1: 5.88980235449453, mse: 56516.85842021565\n",
      "i: 4700, B1: 5.889806710490406, mse: 56516.858418308795\n",
      "i: 4800, B1: 5.889810016166336, mse: 56516.858417210635\n",
      "i: 4900, B1: 5.889812524776004, mse: 56516.858416578194\n",
      "i: 5000, B1: 5.889814428508431, mse: 56516.85841621399\n",
      "i: 5100, B1: 5.889815873211924, mse: 56516.85841600422\n",
      "i: 5200, B1: 5.889816969567774, mse: 56516.85841588344\n",
      "i: 5300, B1: 5.889817801569749, mse: 56516.85841581386\n",
      "i: 5400, B1: 5.889818432958982, mse: 56516.85841577379\n",
      "i: 5500, B1: 5.889818912107318, mse: 56516.85841575075\n",
      "i: 5600, B1: 5.889819275723163, mse: 56516.85841573744\n",
      "i: 5700, B1: 5.889819551663772, mse: 56516.85841572981\n",
      "i: 5800, B1: 5.889819761069436, mse: 56516.85841572539\n",
      "i: 5900, B1: 5.889819919983101, mse: 56516.85841572286\n",
      "i: 6000, B1: 5.889820040579424, mse: 56516.85841572139\n",
      "i: 6100, B1: 5.8898201320974986, mse: 56516.858415720555\n",
      "i: 6200, B1: 5.889820201548692, mse: 56516.85841572007\n",
      "i: 6300, B1: 5.889820254253775, mse: 56516.8584157198\n",
      "i: 6400, B1: 5.889820294250584, mse: 56516.85841571961\n",
      "i: 6500, B1: 5.88982032460334, mse: 56516.85841571953\n",
      "i: 6600, B1: 5.889820347637425, mse: 56516.85841571949\n",
      "i: 6700, B1: 5.8898203651175205, mse: 56516.85841571945\n",
      "i: 6800, B1: 5.889820378382805, mse: 56516.858415719435\n",
      "i: 6900, B1: 5.889820388449562, mse: 56516.85841571943\n",
      "i: 7000, B1: 5.889820396089012, mse: 56516.85841571943\n",
      "i: 7100, B1: 5.889820401886435, mse: 56516.85841571943\n",
      "i: 7200, B1: 5.889820406285978, mse: 56516.85841571943\n",
      "i: 7300, B1: 5.8898204096247, mse: 56516.85841571943\n",
      "i: 7400, B1: 5.889820412158388, mse: 56516.85841571941\n",
      "i: 7500, B1: 5.889820414081155, mse: 56516.8584157194\n",
      "i: 7600, B1: 5.889820415540302, mse: 56516.8584157194\n",
      "i: 7700, B1: 5.889820416647621, mse: 56516.8584157194\n",
      "i: 7800, B1: 5.889820417487944, mse: 56516.8584157194\n",
      "i: 7900, B1: 5.889820418125649, mse: 56516.85841571943\n",
      "i: 8000, B1: 5.889820418609585, mse: 56516.8584157194\n",
      "i: 8100, B1: 5.8898204189768375, mse: 56516.85841571941\n",
      "i: 8200, B1: 5.889820419255538, mse: 56516.85841571941\n",
      "i: 8300, B1: 5.889820419467036, mse: 56516.85841571941\n",
      "i: 8400, B1: 5.889820419627535, mse: 56516.85841571941\n",
      "i: 8500, B1: 5.88982041974934, mse: 56516.85841571941\n",
      "i: 8600, B1: 5.889820419841773, mse: 56516.85841571939\n",
      "i: 8700, B1: 5.8898204199119215, mse: 56516.85841571941\n",
      "i: 8800, B1: 5.889820419965153, mse: 56516.8584157194\n",
      "i: 8900, B1: 5.88982042000555, mse: 56516.85841571943\n",
      "i: 9000, B1: 5.889820420036202, mse: 56516.85841571939\n",
      "i: 9100, B1: 5.889820420059467, mse: 56516.85841571941\n",
      "i: 9200, B1: 5.889820420077124, mse: 56516.8584157194\n",
      "i: 9300, B1: 5.889820420090521, mse: 56516.8584157194\n",
      "i: 9400, B1: 5.889820420100687, mse: 56516.8584157194\n",
      "i: 9500, B1: 5.889820420108403, mse: 56516.8584157194\n",
      "i: 9600, B1: 5.8898204201142565, mse: 56516.85841571941\n",
      "i: 9700, B1: 5.889820420118701, mse: 56516.8584157194\n",
      "i: 9800, B1: 5.8898204201220725, mse: 56516.85841571941\n",
      "i: 9900, B1: 5.889820420124631, mse: 56516.8584157194\n"
     ]
    }
   ],
   "source": [
    "# Начинаем подбирать:\n",
    "for i in range(10000):\n",
    "    B1 -= alpha * (2/n) * np.sum((B1*zp - ks) * zp)\n",
    "    if i%100 == 0:\n",
    "        print('i: {i}, B1: {B1}, mse: {mse_}'.format(i=i, B1=B1, mse_=mse(B1)))\n"
   ]
  },
  {
   "cell_type": "code",
   "execution_count": 74,
   "metadata": {},
   "outputs": [
    {
     "data": {
      "text/plain": [
       "56516.8584157194"
      ]
     },
     "execution_count": 74,
     "metadata": {},
     "output_type": "execute_result"
    }
   ],
   "source": [
    "mse(5.889820420124631)"
   ]
  },
  {
   "cell_type": "markdown",
   "metadata": {},
   "source": [
    "Получился B1 = 5.889820420124631"
   ]
  },
  {
   "cell_type": "code",
   "execution_count": 75,
   "metadata": {},
   "outputs": [
    {
     "data": {
      "text/plain": [
       "<matplotlib.collections.PathCollection at 0x1156d1898>"
      ]
     },
     "execution_count": 75,
     "metadata": {},
     "output_type": "execute_result"
    },
    {
     "data": {
      "image/png": "[encoded data removed]",
      "text/plain": [
       "<Figure size 432x288 with 1 Axes>"
      ]
     },
     "metadata": {
      "needs_background": "light"
     },
     "output_type": "display_data"
    }
   ],
   "source": [
    "plt.scatter(zp, ks)\n",
    "plt.plot(zp, B1 * zp, color='red', alpha=0.5)\n",
    "plt.scatter(zp, B1 * zp, color='red')"
   ]
  },
  {
   "cell_type": "code",
   "execution_count": null,
   "metadata": {},
   "outputs": [],
   "source": []
  },
  {
   "cell_type": "code",
   "execution_count": null,
   "metadata": {},
   "outputs": [],
   "source": []
  }
 ],
 "metadata": {
  "kernelspec": {
   "display_name": "Python 3",
   "language": "python",
   "name": "python3"
  },
  "language_info": {
   "codemirror_mode": {
    "name": "ipython",
    "version": 3
   },
   "file_extension": ".py",
   "mimetype": "text/x-python",
   "name": "python",
   "nbconvert_exporter": "python",
   "pygments_lexer": "ipython3",
   "version": "3.7.3"
  }
 },
 "nbformat": 4,
 "nbformat_minor": 2
}
