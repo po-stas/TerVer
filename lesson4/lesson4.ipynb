{
 "cells": [
  {
   "cell_type": "markdown",
   "metadata": {},
   "source": [
    "Урок 4. Непрерывные случайные величины. Функция распределения и плотность распределения вероятностей. Равномерное и нормальное распределение. Центральная предельная теорема"
   ]
  },
  {
   "cell_type": "markdown",
   "metadata": {},
   "source": [
    "1. Случайная непрерывная величина A имеет равномерное распределение на промежутке (200, 800].\n",
    "Найдите ее среднее значение и дисперсию."
   ]
  },
  {
   "cell_type": "markdown",
   "metadata": {},
   "source": [
    "Среднее значение равно $M(X) = \\frac{a + b}{2} = \\frac{200 + 800}{2} = 500$"
   ]
  },
  {
   "cell_type": "markdown",
   "metadata": {},
   "source": [
    "Дисперсия будет равна: $D(X) = \\frac{(b - a)^2}{12} = \\frac{(800 - 200)^2}{12} = 30000$"
   ]
  },
  {
   "cell_type": "markdown",
   "metadata": {},
   "source": [
    "Смущает только постановка задачи с невключенным интервалом (200, 800].. но что с этим делать не очень понятно."
   ]
  },
  {
   "cell_type": "code",
   "execution_count": null,
   "metadata": {},
   "outputs": [],
   "source": []
  },
  {
   "cell_type": "markdown",
   "metadata": {},
   "source": [
    "2. О случайной непрерывной равномерно распределенной величине B известно, что ее дисперсия равна 0.2.\n",
    "Можно ли найти правую границу величины B и ее среднее значение зная, что левая граница равна 0.5?\n",
    "Если да, найдите ее."
   ]
  },
  {
   "cell_type": "markdown",
   "metadata": {},
   "source": [
    "Ну тут все просто ) известна дисперсия значит подставляем левую границу в формулу $D(X) = \\frac{(b-a)^2}{12} \\Rightarrow \\frac{(b-0.5)^2}{12}=0.2 \\Rightarrow \\frac{b^2 - 2b\\cdot 0.5 + 0.25}{12} = 0.2 \\Rightarrow \\frac{b^2 - b + 0.25}{12} = 0.2 \\Rightarrow b^2 - b - 2.15 = 0$"
   ]
  },
  {
   "cell_type": "markdown",
   "metadata": {},
   "source": [
    "Решаем квадратное уравнение.. Получаем два корня $b_1 \\approx 2.049193338482967$ и $b_2 \\approx -1.0491933384829668$"
   ]
  },
  {
   "cell_type": "markdown",
   "metadata": {},
   "source": [
    "При $b_1$ заданная дисперсия не получается - $D(X) = \\frac{(2.049193338482967 - 0.5)^2}{12} \\approx 0.129099166$ "
   ]
  },
  {
   "cell_type": "markdown",
   "metadata": {},
   "source": [
    "При $b_2$ - что-то похожее получается - $D(X) = \\frac{(-1.0491933384829668 - 0.5)^2}{12} \\approx 0.19999998$"
   ]
  },
  {
   "cell_type": "code",
   "execution_count": null,
   "metadata": {},
   "outputs": [],
   "source": []
  },
  {
   "cell_type": "code",
   "execution_count": null,
   "metadata": {},
   "outputs": [],
   "source": []
  }
 ],
 "metadata": {
  "kernelspec": {
   "display_name": "Python 3",
   "language": "python",
   "name": "python3"
  },
  "language_info": {
   "codemirror_mode": {
    "name": "ipython",
    "version": 3
   },
   "file_extension": ".py",
   "mimetype": "text/x-python",
   "name": "python",
   "nbconvert_exporter": "python",
   "pygments_lexer": "ipython3",
   "version": "3.7.3"
  }
 },
 "nbformat": 4,
 "nbformat_minor": 2
}
