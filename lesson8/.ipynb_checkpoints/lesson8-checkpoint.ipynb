{
 "cells": [
  {
   "cell_type": "markdown",
   "metadata": {},
   "source": [
    "Урок 8. Дисперсионный анализ. Логистическая регрессия"
   ]
  },
  {
   "cell_type": "markdown",
   "metadata": {},
   "source": [
    "1. Провести дисперсионный анализ для определения того, есть ли различия среднего роста среди взрослых футболистов, хоккеистов и штангистов. \n",
    "Даны значения роста в трех группах случайно выбранных спортсменов: \n",
    "Футболисты: 173, 175, 180, 178, 177, 185, 183, 182. \n",
    "Хоккеисты: 177, 179, 180, 188, 177, 172, 171, 184, 180. \n",
    "Штангисты: 172, 173, 169, 177, 166, 180, 178, 177, 172, 166, 170."
   ]
  },
  {
   "cell_type": "markdown",
   "metadata": {},
   "source": [
    "Начнем с того что у нас $k = 3$ (3 группы) $n_1 = 8$ (футболисты), $n_2 = 9$ (Хоккеисты) и $n_3 = 11$ (Штангисты)"
   ]
  },
  {
   "cell_type": "code",
   "execution_count": 1,
   "metadata": {},
   "outputs": [],
   "source": [
    "import numpy as np\n",
    "import pandas as pd\n",
    "import matplotlib.pyplot as plt"
   ]
  },
  {
   "cell_type": "markdown",
   "metadata": {},
   "source": [
    "Найдем средние в группах,"
   ]
  },
  {
   "cell_type": "code",
   "execution_count": 2,
   "metadata": {},
   "outputs": [],
   "source": [
    "group1 = np.array([173, 175, 180, 178, 177, 185, 183, 182])\n",
    "group2 = np.array([177, 179, 180, 188, 177, 172, 171, 184, 180])\n",
    "group3 = np.array([172, 173, 169, 177, 166, 180, 178, 177, 172, 166, 170])"
   ]
  },
  {
   "cell_type": "code",
   "execution_count": 7,
   "metadata": {},
   "outputs": [
    {
     "name": "stdout",
     "output_type": "stream",
     "text": [
      " y1 = 179.125\n",
      " y2 = 178.66666666666666\n",
      " y3 = 172.72727272727272\n"
     ]
    }
   ],
   "source": [
    "y1 = group1.mean()\n",
    "y2 = group2.mean()\n",
    "y3 = group3.mean()\n",
    "print(' y1 = {}\\n y2 = {}\\n y3 = {}'.format(y1, y2, y3))"
   ]
  },
  {
   "cell_type": "code",
   "execution_count": 13,
   "metadata": {},
   "outputs": [
    {
     "data": {
      "text/plain": [
       "176.46428571428572"
      ]
     },
     "execution_count": 13,
     "metadata": {},
     "output_type": "execute_result"
    }
   ],
   "source": [
    "#Общее среднее\n",
    "Y = np.concatenate((group1, group2, group3), axis=0).mean()\n",
    "Y"
   ]
  },
  {
   "cell_type": "code",
   "execution_count": 14,
   "metadata": {},
   "outputs": [
    {
     "data": {
      "text/plain": [
       "253.9074675324678"
      ]
     },
     "execution_count": 14,
     "metadata": {},
     "output_type": "execute_result"
    }
   ],
   "source": [
    "# Сумма квадратов отклонений факторная от общего среднего\n",
    "S_2_F = pow(y1 - Y, 2) * 8 + pow(y2 - Y, 2) * 9 + pow(y3 - Y, 2) * 11\n",
    "S_2_F"
   ]
  },
  {
   "cell_type": "code",
   "execution_count": 22,
   "metadata": {},
   "outputs": [
    {
     "data": {
      "text/plain": [
       "577.0568181818182"
      ]
     },
     "execution_count": 22,
     "metadata": {},
     "output_type": "execute_result"
    }
   ],
   "source": [
    "# Сумма квадратов отклонений остаточная от общего среднего\n",
    "S_2_O = pow(group1 - y1, 2).sum() + pow(group2 - y2, 2).sum() + pow(group3 - y3, 2).sum()\n",
    "S_2_O"
   ]
  },
  {
   "cell_type": "code",
   "execution_count": 25,
   "metadata": {},
   "outputs": [
    {
     "data": {
      "text/plain": [
       "830.964285714286"
      ]
     },
     "execution_count": 25,
     "metadata": {},
     "output_type": "execute_result"
    }
   ],
   "source": [
    "# Сумма квадратов отклонений от общего среднего\n",
    "S_2 = S_2_F + S_2_O\n",
    "S_2"
   ]
  },
  {
   "cell_type": "code",
   "execution_count": 26,
   "metadata": {},
   "outputs": [
    {
     "data": {
      "text/plain": [
       "126.9537337662339"
      ]
     },
     "execution_count": 26,
     "metadata": {},
     "output_type": "execute_result"
    }
   ],
   "source": [
    "# Факторная дисперсия\n",
    "sigma_2_F = S_2_F/2\n",
    "sigma_2_F"
   ]
  },
  {
   "cell_type": "code",
   "execution_count": 28,
   "metadata": {},
   "outputs": [
    {
     "data": {
      "text/plain": [
       "23.08227272727273"
      ]
     },
     "execution_count": 28,
     "metadata": {},
     "output_type": "execute_result"
    }
   ],
   "source": [
    "# Остаточная дисперсия \n",
    "sigma_2_O = S_2_O/(28-3)\n",
    "sigma_2_O"
   ]
  },
  {
   "cell_type": "code",
   "execution_count": 30,
   "metadata": {},
   "outputs": [
    {
     "data": {
      "text/plain": [
       "5.500053450812598"
      ]
     },
     "execution_count": 30,
     "metadata": {},
     "output_type": "execute_result"
    }
   ],
   "source": [
    "# F Наблюдаемое для Критерия Фишера\n",
    "F_N = sigma_2_F/sigma_2_O\n",
    "F_N"
   ]
  },
  {
   "cell_type": "raw",
   "metadata": {},
   "source": [
    "Критическое значение F для уровня значимости 0.05, при количестве групп = 3 и количестве измерений = 28 будет равно $F = 3.38$"
   ]
  },
  {
   "cell_type": "markdown",
   "metadata": {},
   "source": [
    "Выходит верна гипотеза H1. И влияние принадлежности спортсмена к определенной группе на его рост является статистически значимым при уровне $\\alpha=0.05$"
   ]
  },
  {
   "cell_type": "code",
   "execution_count": null,
   "metadata": {},
   "outputs": [],
   "source": []
  },
  {
   "cell_type": "markdown",
   "metadata": {},
   "source": [
    "Попробуем теперь еще сделать это с использованием высокоуровневых функций:"
   ]
  },
  {
   "cell_type": "code",
   "execution_count": 31,
   "metadata": {},
   "outputs": [],
   "source": [
    "from scipy import stats"
   ]
  },
  {
   "cell_type": "code",
   "execution_count": 32,
   "metadata": {},
   "outputs": [
    {
     "data": {
      "text/plain": [
       "F_onewayResult(statistic=5.500053450812596, pvalue=0.010482206918698694)"
      ]
     },
     "execution_count": 32,
     "metadata": {},
     "output_type": "execute_result"
    }
   ],
   "source": [
    "stats.f_oneway(group1, group2, group3)"
   ]
  },
  {
   "cell_type": "markdown",
   "metadata": {},
   "source": [
    "Ну - видно, что pvalue меньше чем 5% - то-есть все сходится."
   ]
  },
  {
   "cell_type": "code",
   "execution_count": null,
   "metadata": {},
   "outputs": [],
   "source": [
    " "
   ]
  }
 ],
 "metadata": {
  "kernelspec": {
   "display_name": "Python 3",
   "language": "python",
   "name": "python3"
  },
  "language_info": {
   "codemirror_mode": {
    "name": "ipython",
    "version": 3
   },
   "file_extension": ".py",
   "mimetype": "text/x-python",
   "name": "python",
   "nbconvert_exporter": "python",
   "pygments_lexer": "ipython3",
   "version": "3.7.3"
  }
 },
 "nbformat": 4,
 "nbformat_minor": 2
}
